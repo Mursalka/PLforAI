{
 "cells": [
  {
   "cell_type": "code",
   "execution_count": 1,
   "id": "2caf6f74",
   "metadata": {},
   "outputs": [
    {
     "name": "stdout",
     "output_type": "stream",
     "text": [
      "Requirement already satisfied: neo4j in c:\\users\\xiaomi\\anaconda3\\lib\\site-packages (5.12.0)\n",
      "Requirement already satisfied: pytz in c:\\users\\xiaomi\\anaconda3\\lib\\site-packages (from neo4j) (2022.1)\n",
      "Note: you may need to restart the kernel to use updated packages.\n"
     ]
    }
   ],
   "source": [
    "pip install neo4j"
   ]
  },
  {
   "cell_type": "code",
   "execution_count": 2,
   "id": "fc51dadd",
   "metadata": {},
   "outputs": [],
   "source": [
    " from neo4j import GraphDatabase"
   ]
  },
  {
   "cell_type": "code",
   "execution_count": 3,
   "id": "fabf0b08",
   "metadata": {},
   "outputs": [],
   "source": [
    "class Neo4jConnection:\n",
    "    def __init__(self, uri, user, password):\n",
    "        self.driver = GraphDatabase.driver(uri, auth=(user, password))\n",
    "\n",
    "    def close(self):\n",
    "        if self.driver is not None:\n",
    "            self.driver.close()\n",
    "\n",
    "# Метод, который передает запрос в БД\n",
    "    def query(self, query, db=None):\n",
    "        assert self.driver is not None, \"Driver not initialized!\"\n",
    "        session = None\n",
    "        response = None\n",
    "        try:\n",
    "            session = self.driver.session(database=db) if db is not None else self.driver.session()\n",
    "            response = list(session.run(query))\n",
    "        except Exception as e:\n",
    "            print(\"Query failed:\", e)\n",
    "        finally:\n",
    "            if session is not None:\n",
    "                session.close()\n",
    "        return response"
   ]
  },
  {
   "cell_type": "code",
   "execution_count": 4,
   "id": "9b9d7a93",
   "metadata": {},
   "outputs": [
    {
     "data": {
      "text/plain": [
       "[]"
      ]
     },
     "execution_count": 4,
     "metadata": {},
     "output_type": "execute_result"
    }
   ],
   "source": [
    "conn = Neo4jConnection(uri=\"bolt://localhost:7687\", user=\"gnbaltaeva\", password=\"kakdela2101\")\n",
    "conn.query(\"CREATE OR REPLACE DATABASE lab01\")"
   ]
  },
  {
   "cell_type": "code",
   "execution_count": 6,
   "id": "43f45837",
   "metadata": {},
   "outputs": [
    {
     "data": {
      "text/plain": [
       "[]"
      ]
     },
     "execution_count": 6,
     "metadata": {},
     "output_type": "execute_result"
    }
   ],
   "source": [
    "query_string = '''\n",
    "// создаем узлы\n",
    "CREATE (board:Board {name: \"Доска\"})\n",
    "CREATE (chalk:Chalk {name: \"Мел\"})\n",
    "CREATE (door:Door {name: \"Дверь\"})\n",
    "FOREACH(number IN range(1, 3) |\n",
    "  CREATE (window:Window {name: \"Окно \" + number})\n",
    ")\n",
    "FOREACH(number IN range(1, 10) |\n",
    "  CREATE (table:Table {name: \"Стол \" + number})\n",
    ")\n",
    "FOREACH(number IN range(1, 10) |\n",
    "  CREATE (chair:Chair {name: \"Стул \" + number})\n",
    ")\n",
    "FOREACH(number IN range(1, 10) |\n",
    "  CREATE (computer:Computer {name: \"Компьютер \" + number})\n",
    ")\n",
    "'''\n",
    "conn.query(query_string, db='lab01')"
   ]
  },
  {
   "cell_type": "code",
   "execution_count": 9,
   "id": "3a0693d8",
   "metadata": {},
   "outputs": [
    {
     "data": {
      "text/plain": [
       "[]"
      ]
     },
     "execution_count": 9,
     "metadata": {},
     "output_type": "execute_result"
    }
   ],
   "source": [
    "query_string = '''\n",
    "// стулья\n",
    "UNWIND range(1, 10) AS chair_number\n",
    "MATCH (chair:Chair {name: \"Стул \" + chair_number}), (table:Table {name: \"Стол \" + chair_number})\n",
    "CREATE (chair)-[:находится_у]->(table)\n",
    "\n",
    "'''\n",
    "conn.query(query_string, db='lab01')"
   ]
  },
  {
   "cell_type": "code",
   "execution_count": 12,
   "id": "ff2a1707",
   "metadata": {},
   "outputs": [
    {
     "data": {
      "text/plain": [
       "[]"
      ]
     },
     "execution_count": 12,
     "metadata": {},
     "output_type": "execute_result"
    }
   ],
   "source": [
    "query_string = '''\n",
    "// компьютеры\n",
    "UNWIND range(1, 10) AS number\n",
    "MATCH (computer:Computer {name: \"Компьютер \" + number}), (table:Table {name: \"Стол \" + number})\n",
    "CREATE (computer)-[:находится_на]->(table)\n",
    "\n",
    "'''\n",
    "conn.query(query_string, db='lab01')\n"
   ]
  },
  {
   "cell_type": "code",
   "execution_count": 13,
   "id": "f95642c8",
   "metadata": {},
   "outputs": [
    {
     "data": {
      "text/plain": [
       "[]"
      ]
     },
     "execution_count": 13,
     "metadata": {},
     "output_type": "execute_result"
    }
   ],
   "source": [
    "query_string = '''\n",
    "// столы\n",
    "MATCH (table1:Table {name: \"Стол 1\"})\n",
    "MATCH (table2:Table {name: \"Стол 2\"})\n",
    "MATCH (table3:Table {name: \"Стол 3\"})\n",
    "MATCH (table4:Table {name: \"Стол 4\"})\n",
    "MATCH (table5:Table {name: \"Стол 5\"})\n",
    "MATCH (table6:Table {name: \"Стол 6\"})\n",
    "MATCH (table7:Table {name: \"Стол 7\"})\n",
    "MATCH (table8:Table {name: \"Стол 8\"})\n",
    "MATCH (table9:Table {name: \"Стол 9\"})\n",
    "MATCH (table10:Table {name: \"Стол 10\"})\n",
    "\n",
    "CREATE (table1)-[:спереди]->(table2),\n",
    "(table2)-[:сзади]->(table1),\n",
    "(table2)-[:слева]->(table3),\n",
    "(table2)-[:спереди]->(table5),\n",
    "(table3)-[:спереди]->(table6),\n",
    "(table3)-[:слева]->(table4),\n",
    "(table3)-[:справа]->(table2),\n",
    "(table4)-[:спереди]->(table7),\n",
    "(table4)-[:справа]->(table3),\n",
    "(table5)-[:сзади]->(table2),\n",
    "(table5)-[:слева]->(table6),\n",
    "(table5)-[:спереди]->(table8),\n",
    "(table6)-[:сзади]->(table3),\n",
    "(table6)-[:спереди]->(table9),\n",
    "(table6)-[:слева]->(table7),\n",
    "(table6)-[:справа]->(table5),\n",
    "(table7)-[:сзади]->(table4),\n",
    "(table7)-[:справа]->(table6),\n",
    "(table7)-[:спереди]->(table10),\n",
    "(table8)-[:сзади]->(table5),\n",
    "(table8)-[:слева]->(table9),\n",
    "(table9)-[:сзади]->(table6),\n",
    "(table9)-[:слева]->(table10),\n",
    "(table9)-[:справа]->(table8),\n",
    "(table10)-[:справа]->(table9),\n",
    "(table10)-[:сзади]->(table7)\n",
    "\n",
    "'''\n",
    "conn.query(query_string, db='lab01')"
   ]
  },
  {
   "cell_type": "code",
   "execution_count": 14,
   "id": "342e00e1",
   "metadata": {},
   "outputs": [
    {
     "data": {
      "text/plain": [
       "[]"
      ]
     },
     "execution_count": 14,
     "metadata": {},
     "output_type": "execute_result"
    }
   ],
   "source": [
    "query_string = '''\n",
    "// Остальное\n",
    "MATCH (стол1:Table {name: \"Стол 1\"})\n",
    "MATCH (стол10:Table {name: \"Стол 10\"})\n",
    "MATCH (мел:Chalk {name: \"Мел\"})\n",
    "MATCH (дверь:Door {name: \"Дверь\"})\n",
    "MATCH (доска:Board {name: \"Доска\"})\n",
    "MATCH (окно1:Window {name: \"Окно 1\"})\n",
    "MATCH (окно2:Window {name: \"Окно 2\"})\n",
    "MATCH (окно3:Window {name: \"Окно 3\"})\n",
    "\n",
    "CREATE (стол1)-[:рядом_с]->(окно1),\n",
    "(окно1)-[:слева]->(окно2),\n",
    "(окно2)-[:слева]->(окно3),\n",
    "(окно3)-[:справа]->(окно2),\n",
    "(окно2)-[:справа]->(окно1),\n",
    "(доска)-[:рядом_с]->(окно3),\n",
    "(мел)-[:лежит_на]->(доска),\n",
    "(стол10)-[:рядом_с]->(дверь);\n",
    "\n",
    "\n",
    "'''\n",
    "conn.query(query_string, db='lab01')"
   ]
  },
  {
   "cell_type": "code",
   "execution_count": null,
   "id": "2eb9de9c",
   "metadata": {},
   "outputs": [],
   "source": []
  }
 ],
 "metadata": {
  "kernelspec": {
   "display_name": "Python 3 (ipykernel)",
   "language": "python",
   "name": "python3"
  },
  "language_info": {
   "codemirror_mode": {
    "name": "ipython",
    "version": 3
   },
   "file_extension": ".py",
   "mimetype": "text/x-python",
   "name": "python",
   "nbconvert_exporter": "python",
   "pygments_lexer": "ipython3",
   "version": "3.9.13"
  }
 },
 "nbformat": 4,
 "nbformat_minor": 5
}
